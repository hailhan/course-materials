{
 "cells": [
  {
   "cell_type": "markdown",
   "metadata": {},
   "source": [
    "## Lab 8 - PySpark ML\n",
    "\n",
    "In this lab, you are tasked with training a Machine Learning model to predict the maximum temperature at Midway Airport (Chicago) for any given date. We'll be using [NOAA weather data](https://www.ncei.noaa.gov/pub/data/cdo/documentation/GHCND_documentation.pdf) that is hosted in S3 to perform this task."
   ]
  },
  {
   "cell_type": "code",
   "execution_count": null,
   "metadata": {
    "scrolled": true
   },
   "outputs": [],
   "source": [
    "%%configure -f\n",
    "{\n",
    "    \"conf\": {\n",
    "        \"spark.pyspark.python\": \"python3\",\n",
    "        \"spark.pyspark.virtualenv.enabled\": \"true\",\n",
    "        \"spark.pyspark.virtualenv.type\": \"native\",\n",
    "        \"spark.pyspark.virtualenv.bin.path\": \"/usr/bin/virtualenv\"\n",
    "    }\n",
    "}"
   ]
  },
  {
   "cell_type": "markdown",
   "metadata": {},
   "source": [
    "In this lab, we only use the weather data from CHICAGO_MIDWAY_AP_3SW Station.\n",
    "\n",
    "You can read the complete Weather Station List [here](https://data.giss.nasa.gov/gistemp/station_data_v4_globe/v4.temperature.inv.txt)."
   ]
  },
  {
   "cell_type": "code",
   "execution_count": 3,
   "metadata": {},
   "outputs": [
    {
     "data": {
      "application/vnd.jupyter.widget-view+json": {
       "model_id": "",
       "version_major": 2,
       "version_minor": 0
      },
      "text/plain": [
       "FloatProgress(value=0.0, bar_style='info', description='Progress:', layout=Layout(height='25px', width='50%'),…"
      ]
     },
     "metadata": {},
     "output_type": "display_data"
    }
   ],
   "source": [
    "df = spark.read.csv('s3://noaa-ghcn-pds/csv/by_station/USC00111577.csv', header=True)"
   ]
  },
  {
   "cell_type": "code",
   "execution_count": 4,
   "metadata": {},
   "outputs": [
    {
     "data": {
      "application/vnd.jupyter.widget-view+json": {
       "model_id": "",
       "version_major": 2,
       "version_minor": 0
      },
      "text/plain": [
       "FloatProgress(value=0.0, bar_style='info', description='Progress:', layout=Layout(height='25px', width='50%'),…"
      ]
     },
     "metadata": {},
     "output_type": "display_data"
    },
    {
     "name": "stdout",
     "output_type": "stream",
     "text": [
      "root\n",
      " |-- ID: string (nullable = true)\n",
      " |-- DATE: string (nullable = true)\n",
      " |-- ELEMENT: string (nullable = true)\n",
      " |-- DATA_VALUE: string (nullable = true)\n",
      " |-- M_FLAG: string (nullable = true)\n",
      " |-- Q_FLAG: string (nullable = true)\n",
      " |-- S_FLAG: string (nullable = true)\n",
      " |-- OBS_TIME: string (nullable = true)"
     ]
    }
   ],
   "source": [
    "df.printSchema()"
   ]
  },
  {
   "cell_type": "code",
   "execution_count": 5,
   "metadata": {},
   "outputs": [
    {
     "data": {
      "application/vnd.jupyter.widget-view+json": {
       "model_id": "",
       "version_major": 2,
       "version_minor": 0
      },
      "text/plain": [
       "FloatProgress(value=0.0, bar_style='info', description='Progress:', layout=Layout(height='25px', width='50%'),…"
      ]
     },
     "metadata": {},
     "output_type": "display_data"
    },
    {
     "name": "stdout",
     "output_type": "stream",
     "text": [
      "+-----------+--------+-------+----------+------+------+------+--------+\n",
      "|         ID|    DATE|ELEMENT|DATA_VALUE|M_FLAG|Q_FLAG|S_FLAG|OBS_TIME|\n",
      "+-----------+--------+-------+----------+------+------+------+--------+\n",
      "|USC00111577|19280229|   TMAX|        39|  null|  null|     0|    null|\n",
      "|USC00111577|19280229|   TMIN|       -28|  null|  null|     0|    null|\n",
      "|USC00111577|19280229|   PRCP|         0|     T|  null|     0|    null|\n",
      "|USC00111577|19280229|   SNOW|         0|     T|  null|     0|    null|\n",
      "|USC00111577|19280229|   SNWD|         0|  null|  null|     0|    null|\n",
      "|USC00111577|19280301|   TMAX|        22|  null|  null|     0|    null|\n",
      "|USC00111577|19280302|   TMAX|        56|  null|  null|     0|    null|\n",
      "|USC00111577|19280303|   TMAX|        28|  null|  null|     0|    null|\n",
      "|USC00111577|19280304|   TMAX|        50|  null|  null|     0|    null|\n",
      "|USC00111577|19280305|   TMAX|       -22|  null|  null|     0|    null|\n",
      "+-----------+--------+-------+----------+------+------+------+--------+\n",
      "only showing top 10 rows"
     ]
    }
   ],
   "source": [
    "df.show(10)"
   ]
  },
  {
   "cell_type": "markdown",
   "metadata": {},
   "source": [
    "Check the length of the dataframe:"
   ]
  },
  {
   "cell_type": "code",
   "execution_count": 6,
   "metadata": {
    "scrolled": true
   },
   "outputs": [
    {
     "data": {
      "application/vnd.jupyter.widget-view+json": {
       "model_id": "",
       "version_major": 2,
       "version_minor": 0
      },
      "text/plain": [
       "FloatProgress(value=0.0, bar_style='info', description='Progress:', layout=Layout(height='25px', width='50%'),…"
      ]
     },
     "metadata": {},
     "output_type": "display_data"
    },
    {
     "name": "stdout",
     "output_type": "stream",
     "text": [
      "277672"
     ]
    }
   ],
   "source": [
    "df.count()"
   ]
  },
  {
   "cell_type": "markdown",
   "metadata": {},
   "source": [
    "## Feature Engineering"
   ]
  },
  {
   "cell_type": "markdown",
   "metadata": {},
   "source": [
    "First, convert `DATE` to datetime type:"
   ]
  },
  {
   "cell_type": "code",
   "execution_count": null,
   "metadata": {},
   "outputs": [],
   "source": [
    "import pyspark.sql.functions as F"
   ]
  },
  {
   "cell_type": "code",
   "execution_count": 7,
   "metadata": {
    "scrolled": true
   },
   "outputs": [
    {
     "data": {
      "application/vnd.jupyter.widget-view+json": {
       "model_id": "",
       "version_major": 2,
       "version_minor": 0
      },
      "text/plain": [
       "FloatProgress(value=0.0, bar_style='info', description='Progress:', layout=Layout(height='25px', width='50%'),…"
      ]
     },
     "metadata": {},
     "output_type": "display_data"
    },
    {
     "name": "stdout",
     "output_type": "stream",
     "text": [
      "+-----------+----------+-------+----------+------+------+------+--------+\n",
      "|         ID|      DATE|ELEMENT|DATA_VALUE|M_FLAG|Q_FLAG|S_FLAG|OBS_TIME|\n",
      "+-----------+----------+-------+----------+------+------+------+--------+\n",
      "|USC00111577|1928-02-29|   TMAX|        39|  null|  null|     0|    null|\n",
      "|USC00111577|1928-02-29|   TMIN|       -28|  null|  null|     0|    null|\n",
      "|USC00111577|1928-02-29|   PRCP|         0|     T|  null|     0|    null|\n",
      "|USC00111577|1928-02-29|   SNOW|         0|     T|  null|     0|    null|\n",
      "|USC00111577|1928-02-29|   SNWD|         0|  null|  null|     0|    null|\n",
      "+-----------+----------+-------+----------+------+------+------+--------+"
     ]
    }
   ],
   "source": [
    "df = df.withColumn(\"DATE\", F.to_date(df[\"DATE\"], \"yyyyMMdd\"))\n",
    "df.filter(df[\"DATE\"] == '1928-02-29').show()"
   ]
  },
  {
   "cell_type": "markdown",
   "metadata": {},
   "source": [
    "Convert `DATA_VALUE` to integer: "
   ]
  },
  {
   "cell_type": "code",
   "execution_count": 8,
   "metadata": {},
   "outputs": [
    {
     "data": {
      "application/vnd.jupyter.widget-view+json": {
       "model_id": "",
       "version_major": 2,
       "version_minor": 0
      },
      "text/plain": [
       "FloatProgress(value=0.0, bar_style='info', description='Progress:', layout=Layout(height='25px', width='50%'),…"
      ]
     },
     "metadata": {},
     "output_type": "display_data"
    }
   ],
   "source": [
    "df = df.withColumn(\"DATA_VALUE\", F.col(\"DATA_VALUE\").cast(\"int\"))"
   ]
  },
  {
   "cell_type": "markdown",
   "metadata": {},
   "source": [
    "Check the data types:"
   ]
  },
  {
   "cell_type": "code",
   "execution_count": 9,
   "metadata": {},
   "outputs": [
    {
     "data": {
      "application/vnd.jupyter.widget-view+json": {
       "model_id": "",
       "version_major": 2,
       "version_minor": 0
      },
      "text/plain": [
       "FloatProgress(value=0.0, bar_style='info', description='Progress:', layout=Layout(height='25px', width='50%'),…"
      ]
     },
     "metadata": {},
     "output_type": "display_data"
    },
    {
     "name": "stdout",
     "output_type": "stream",
     "text": [
      "[('ID', 'string'), ('DATE', 'date'), ('ELEMENT', 'string'), ('DATA_VALUE', 'int'), ('M_FLAG', 'string'), ('Q_FLAG', 'string'), ('S_FLAG', 'string'), ('OBS_TIME', 'string')]"
     ]
    }
   ],
   "source": [
    "df.dtypes"
   ]
  },
  {
   "cell_type": "markdown",
   "metadata": {},
   "source": [
    "We want to re-organize the data such that each unique value in the `ELEMENT` column becomes a new column. We use groupby and pivot in PySpark to do the transformation:"
   ]
  },
  {
   "cell_type": "code",
   "execution_count": 10,
   "metadata": {},
   "outputs": [
    {
     "data": {
      "application/vnd.jupyter.widget-view+json": {
       "model_id": "",
       "version_major": 2,
       "version_minor": 0
      },
      "text/plain": [
       "FloatProgress(value=0.0, bar_style='info', description='Progress:', layout=Layout(height='25px', width='50%'),…"
      ]
     },
     "metadata": {},
     "output_type": "display_data"
    }
   ],
   "source": [
    "pivot_df = df.groupBy(\"DATE\")\\\n",
    "             .pivot(\"ELEMENT\")\\\n",
    "             .agg(F.sum(\"DATA_VALUE\"))"
   ]
  },
  {
   "cell_type": "code",
   "execution_count": 11,
   "metadata": {},
   "outputs": [
    {
     "data": {
      "application/vnd.jupyter.widget-view+json": {
       "model_id": "",
       "version_major": 2,
       "version_minor": 0
      },
      "text/plain": [
       "FloatProgress(value=0.0, bar_style='info', description='Progress:', layout=Layout(height='25px', width='50%'),…"
      ]
     },
     "metadata": {},
     "output_type": "display_data"
    },
    {
     "name": "stdout",
     "output_type": "stream",
     "text": [
      "+----------+----+----+----+----+----+----+----+----+----+----+----+----+----+----+----+----+----+----+----+----+----+----+----+----+----+----+----+----+----+----+----+----+----+\n",
      "|      DATE|ACMH|ACSH|DAPR|DASF|MDPR|MDSF|PGTM|PRCP|PSUN|SNOW|SNWD|TMAX|TMIN|TOBS|TSUN|WDFG|WDFM|WESD|WSFG|WSFM|WT01|WT02|WT03|WT04|WT05|WT06|WT07|WT08|WT09|WT11|WT14|WT16|WT18|\n",
      "+----------+----+----+----+----+----+----+----+----+----+----+----+----+----+----+----+----+----+----+----+----+----+----+----+----+----+----+----+----+----+----+----+----+----+\n",
      "|1999-02-01|null|null|null|null|null|null|null|  13|null|   0|   0|  78|  17|  56|null|null|null|null|null|null|   1|null|null|null|null|null|null|null|null|null|null|null|null|\n",
      "|1997-12-11|null|null|null|null|null|null|null|   5|null|   3|  25|  22|   0|   0|null|null|null|null|null|null|   1|null|null|null|null|null|null|null|null|null|null|null|null|\n",
      "|1975-10-24|  90|  80|null|null|null|null|1500| 307|  42|   0|   0| 256|  72|null| 276| 225| 225|null| 190| 116|null|null|   1|null|null|null|null|null|null|null|null|   1|null|\n",
      "|1971-05-12|  40|  40|null|null|null|null|   6|   0|  99|   0|   0| 128|   6|null| 858| 360| 315|null| 123|  89|   1|null|null|null|null|null|null|   1|null|null|null|   1|null|\n",
      "|1991-07-30|null|null|null|null|null|null|null|   0|null|   0|   0| 267| 156| 189|null|null|null|null|null|null|null|null|null|null|null|null|null|null|null|null|null|null|null|\n",
      "+----------+----+----+----+----+----+----+----+----+----+----+----+----+----+----+----+----+----+----+----+----+----+----+----+----+----+----+----+----+----+----+----+----+----+\n",
      "only showing top 5 rows"
     ]
    }
   ],
   "source": [
    "pivot_df.show(5)"
   ]
  },
  {
   "cell_type": "markdown",
   "metadata": {},
   "source": [
    "Here in this exercise, we only use a couple of these elements for the ML task. Feel free to explore other elements.\n",
    "\n",
    "- DATE = YYYY-MM-DD\n",
    "\n",
    "- PRCP = Precipitation (tenths of mm)\n",
    "\n",
    "- SNOW = Snowfall (mm)\n",
    "\n",
    "- SNWD = Snow depth (mm)\n",
    "\n",
    "- TMAX = Maximum temperature (tenths of degrees C)\n",
    "\n",
    "- TMIN = Minimum temperature (tenths of degrees C)"
   ]
  },
  {
   "cell_type": "code",
   "execution_count": 12,
   "metadata": {},
   "outputs": [
    {
     "data": {
      "application/vnd.jupyter.widget-view+json": {
       "model_id": "",
       "version_major": 2,
       "version_minor": 0
      },
      "text/plain": [
       "FloatProgress(value=0.0, bar_style='info', description='Progress:', layout=Layout(height='25px', width='50%'),…"
      ]
     },
     "metadata": {},
     "output_type": "display_data"
    },
    {
     "name": "stdout",
     "output_type": "stream",
     "text": [
      "+----------+------+----+----------+--------+--------+\n",
      "|      date|precip|snow|snow_depth|temp_max|temp_min|\n",
      "+----------+------+----+----------+--------+--------+\n",
      "|2000-07-03|   249|   0|         0|     244|     189|\n",
      "|1973-09-04|    76|   0|         0|     283|     211|\n",
      "|1976-06-24|    58|   0|         0|     233|     178|\n",
      "|1972-12-24|     3|   0|        25|      33|      -6|\n",
      "|1981-03-25|     0|   0|         0|     144|     -44|\n",
      "+----------+------+----+----------+--------+--------+\n",
      "only showing top 5 rows"
     ]
    }
   ],
   "source": [
    "core_df = pivot_df.select(\"DATE\", \"PRCP\", \"SNOW\", \"SNWD\", \"TMAX\", \"TMIN\") \\\n",
    "                  .withColumnRenamed(\"DATE\", \"date\")\\\n",
    "                  .withColumnRenamed(\"PRCP\", \"precip\")\\\n",
    "                  .withColumnRenamed(\"SNOW\", \"snow\")\\\n",
    "                  .withColumnRenamed(\"SNWD\", \"snow_depth\")\\\n",
    "                  .withColumnRenamed(\"TMAX\", \"temp_max\")\\\n",
    "                  .withColumnRenamed(\"TMIN\", \"temp_min\")\n",
    "\n",
    "core_df.show(5)"
   ]
  },
  {
   "cell_type": "code",
   "execution_count": 13,
   "metadata": {},
   "outputs": [
    {
     "data": {
      "application/vnd.jupyter.widget-view+json": {
       "model_id": "",
       "version_major": 2,
       "version_minor": 0
      },
      "text/plain": [
       "FloatProgress(value=0.0, bar_style='info', description='Progress:', layout=Layout(height='25px', width='50%'),…"
      ]
     },
     "metadata": {},
     "output_type": "display_data"
    },
    {
     "name": "stdout",
     "output_type": "stream",
     "text": [
      "+----------+------+----+----------+--------+--------+\n",
      "|      date|precip|snow|snow_depth|temp_max|temp_min|\n",
      "+----------+------+----+----------+--------+--------+\n",
      "|1928-02-29|     0|   0|         0|      39|     -28|\n",
      "+----------+------+----+----------+--------+--------+"
     ]
    }
   ],
   "source": [
    "core_df.filter(core_df[\"date\"] == '1928-02-29').show()"
   ]
  },
  {
   "cell_type": "code",
   "execution_count": 14,
   "metadata": {},
   "outputs": [
    {
     "data": {
      "application/vnd.jupyter.widget-view+json": {
       "model_id": "",
       "version_major": 2,
       "version_minor": 0
      },
      "text/plain": [
       "FloatProgress(value=0.0, bar_style='info', description='Progress:', layout=Layout(height='25px', width='50%'),…"
      ]
     },
     "metadata": {},
     "output_type": "display_data"
    },
    {
     "name": "stdout",
     "output_type": "stream",
     "text": [
      "[('date', 'date'), ('precip', 'bigint'), ('snow', 'bigint'), ('snow_depth', 'bigint'), ('temp_max', 'bigint'), ('temp_min', 'bigint')]"
     ]
    }
   ],
   "source": [
    "core_df.dtypes"
   ]
  },
  {
   "cell_type": "markdown",
   "metadata": {},
   "source": [
    "Check for missing values:"
   ]
  },
  {
   "cell_type": "code",
   "execution_count": 15,
   "metadata": {},
   "outputs": [
    {
     "data": {
      "application/vnd.jupyter.widget-view+json": {
       "model_id": "",
       "version_major": 2,
       "version_minor": 0
      },
      "text/plain": [
       "FloatProgress(value=0.0, bar_style='info', description='Progress:', layout=Layout(height='25px', width='50%'),…"
      ]
     },
     "metadata": {},
     "output_type": "display_data"
    },
    {
     "name": "stdout",
     "output_type": "stream",
     "text": [
      "+----+------+----+----------+--------+--------+\n",
      "|date|precip|snow|snow_depth|temp_max|temp_min|\n",
      "+----+------+----+----------+--------+--------+\n",
      "|   0|    34| 134|       135|      21|      28|\n",
      "+----+------+----+----------+--------+--------+"
     ]
    }
   ],
   "source": [
    "null_counts = core_df.select([F.count(F.when(F.col(c).isNull(), c)).alias(c) for c in core_df.columns])\n",
    "null_counts.show()"
   ]
  },
  {
   "cell_type": "markdown",
   "metadata": {},
   "source": [
    "Drop null values:"
   ]
  },
  {
   "cell_type": "code",
   "execution_count": 16,
   "metadata": {},
   "outputs": [
    {
     "data": {
      "application/vnd.jupyter.widget-view+json": {
       "model_id": "",
       "version_major": 2,
       "version_minor": 0
      },
      "text/plain": [
       "FloatProgress(value=0.0, bar_style='info', description='Progress:', layout=Layout(height='25px', width='50%'),…"
      ]
     },
     "metadata": {},
     "output_type": "display_data"
    }
   ],
   "source": [
    "core_df = core_df.dropna()"
   ]
  },
  {
   "cell_type": "markdown",
   "metadata": {},
   "source": [
    "Transform temperatures from tenths of degrees C to degree C:"
   ]
  },
  {
   "cell_type": "code",
   "execution_count": 17,
   "metadata": {},
   "outputs": [
    {
     "data": {
      "application/vnd.jupyter.widget-view+json": {
       "model_id": "",
       "version_major": 2,
       "version_minor": 0
      },
      "text/plain": [
       "FloatProgress(value=0.0, bar_style='info', description='Progress:', layout=Layout(height='25px', width='50%'),…"
      ]
     },
     "metadata": {},
     "output_type": "display_data"
    }
   ],
   "source": [
    "# TODO\n"
   ]
  },
  {
   "cell_type": "markdown",
   "metadata": {},
   "source": [
    "Let's also create another column that identifies the month that a recording appears in. This may be helpful for predicting the maximum temperature for the day as well."
   ]
  },
  {
   "cell_type": "code",
   "execution_count": 25,
   "metadata": {},
   "outputs": [
    {
     "data": {
      "application/vnd.jupyter.widget-view+json": {
       "model_id": "",
       "version_major": 2,
       "version_minor": 0
      },
      "text/plain": [
       "FloatProgress(value=0.0, bar_style='info', description='Progress:', layout=Layout(height='25px', width='50%'),…"
      ]
     },
     "metadata": {},
     "output_type": "display_data"
    },
    {
     "name": "stdout",
     "output_type": "stream",
     "text": [
      "+----------+------+----+----------+--------+--------+-----+\n",
      "|      date|precip|snow|snow_depth|temp_max|temp_min|month|\n",
      "+----------+------+----+----------+--------+--------+-----+\n",
      "|1968-06-15|    13|   0|         0|    23.3|    13.3|    6|\n",
      "|1958-08-15|   137|   0|         0|    27.8|    19.4|    8|\n",
      "|1946-02-25|     0|   0|         0|     3.9|    -4.4|    2|\n",
      "|1972-12-24|     3|   0|        25|     3.3|    -0.6|   12|\n",
      "|1976-06-24|    58|   0|         0|    23.3|    17.8|    6|\n",
      "|1970-05-29|     0|   0|         0|    30.6|    19.4|    5|\n",
      "|1974-05-11|    28|   0|         0|    19.4|    11.1|    5|\n",
      "|1971-05-12|     0|   0|         0|    12.8|     0.6|    5|\n",
      "|1995-12-01|     0|   0|         0|    10.6|     0.0|   12|\n",
      "|1998-05-16|     0|   0|         0|    28.3|    18.3|    5|\n",
      "|1941-06-05|     0|   0|         0|    28.3|    12.2|    6|\n",
      "|1971-06-25|    18|   0|         0|    28.3|    15.0|    6|\n",
      "|1952-06-15|     0|   0|         0|    35.0|    21.1|    6|\n",
      "|1967-05-10|   147|   0|         0|    17.8|     6.7|    5|\n",
      "|1929-12-18|   216| 211|         0|     1.1|   -10.6|   12|\n",
      "|1988-02-19|     0|   0|        25|     4.4|    -1.7|    2|\n",
      "|1980-02-16|     0|   0|       102|    -1.1|   -13.9|    2|\n",
      "|1963-06-25|     0|   0|         0|    34.4|    18.9|    6|\n",
      "|1970-09-01|     0|   0|         0|    24.4|    12.8|    9|\n",
      "|1994-06-12|     0|   0|         0|    29.4|    16.1|    6|\n",
      "+----------+------+----+----------+--------+--------+-----+\n",
      "only showing top 20 rows"
     ]
    }
   ],
   "source": [
    "core_df = core_df.withColumn('month', F.month('date'))\n",
    "core_df.show()"
   ]
  },
  {
   "cell_type": "markdown",
   "metadata": {},
   "source": [
    "We can then use PySpark's OneHotEncoder class to engineer a `month_dummy` feature that we can include in our model based on the month recorded in `month`."
   ]
  },
  {
   "cell_type": "code",
   "execution_count": 26,
   "metadata": {},
   "outputs": [
    {
     "data": {
      "application/vnd.jupyter.widget-view+json": {
       "model_id": "",
       "version_major": 2,
       "version_minor": 0
      },
      "text/plain": [
       "FloatProgress(value=0.0, bar_style='info', description='Progress:', layout=Layout(height='25px', width='50%'),…"
      ]
     },
     "metadata": {},
     "output_type": "display_data"
    }
   ],
   "source": [
    "from pyspark.ml.feature import OneHotEncoder"
   ]
  },
  {
   "cell_type": "code",
   "execution_count": 40,
   "metadata": {},
   "outputs": [
    {
     "data": {
      "application/vnd.jupyter.widget-view+json": {
       "model_id": "",
       "version_major": 2,
       "version_minor": 0
      },
      "text/plain": [
       "FloatProgress(value=0.0, bar_style='info', description='Progress:', layout=Layout(height='25px', width='50%'),…"
      ]
     },
     "metadata": {},
     "output_type": "display_data"
    }
   ],
   "source": [
    "# TODO: Use OneHotEncoder to transform `month` in `core_df` into a\n",
    "# one-hot encoded column called `month_dummy`\n"
   ]
  },
  {
   "cell_type": "markdown",
   "metadata": {},
   "source": [
    "## Regression Modeling \n",
    "\n",
    "Let's use the features above (i.e. `precip`, `snow`, `snow_depth`, `temp_min`, and `month_dummy`) to to predict the max temperature for a given day."
   ]
  },
  {
   "cell_type": "code",
   "execution_count": 33,
   "metadata": {},
   "outputs": [
    {
     "data": {
      "application/vnd.jupyter.widget-view+json": {
       "model_id": "",
       "version_major": 2,
       "version_minor": 0
      },
      "text/plain": [
       "FloatProgress(value=0.0, bar_style='info', description='Progress:', layout=Layout(height='25px', width='50%'),…"
      ]
     },
     "metadata": {},
     "output_type": "display_data"
    }
   ],
   "source": [
    "from pyspark.ml.feature import VectorAssembler\n",
    "from pyspark.ml.regression import LinearRegression"
   ]
  },
  {
   "cell_type": "markdown",
   "metadata": {},
   "source": [
    "Train test split:"
   ]
  },
  {
   "cell_type": "code",
   "execution_count": 34,
   "metadata": {},
   "outputs": [
    {
     "data": {
      "application/vnd.jupyter.widget-view+json": {
       "model_id": "",
       "version_major": 2,
       "version_minor": 0
      },
      "text/plain": [
       "FloatProgress(value=0.0, bar_style='info', description='Progress:', layout=Layout(height='25px', width='50%'),…"
      ]
     },
     "metadata": {},
     "output_type": "display_data"
    }
   ],
   "source": [
    "train_df = core_df.filter(\n",
    "    F.col('date') <= F.to_date(F.lit('2020-12-31'))\n",
    ")\n",
    "test_df = core_df.filter(\n",
    "      (F.col('date') > F.to_date(F.lit('2020-12-31')))\n",
    "    & (F.col('date') <= F.to_date(F.lit('2024-05-03')))\n",
    ")"
   ]
  },
  {
   "cell_type": "code",
   "execution_count": 41,
   "metadata": {},
   "outputs": [
    {
     "data": {
      "application/vnd.jupyter.widget-view+json": {
       "model_id": "",
       "version_major": 2,
       "version_minor": 0
      },
      "text/plain": [
       "FloatProgress(value=0.0, bar_style='info', description='Progress:', layout=Layout(height='25px', width='50%'),…"
      ]
     },
     "metadata": {},
     "output_type": "display_data"
    }
   ],
   "source": [
    "# TODO: Use the VectorAssembler class to convert `precip`, `snow`, \n",
    "# `snow_depth`, `temp_min`, and `month_dummy` into the form that can\n",
    "# be use to train an ML model (you should transform both test and train data)\n"
   ]
  },
  {
   "cell_type": "code",
   "execution_count": 42,
   "metadata": {},
   "outputs": [
    {
     "data": {
      "application/vnd.jupyter.widget-view+json": {
       "model_id": "",
       "version_major": 2,
       "version_minor": 0
      },
      "text/plain": [
       "FloatProgress(value=0.0, bar_style='info', description='Progress:', layout=Layout(height='25px', width='50%'),…"
      ]
     },
     "metadata": {},
     "output_type": "display_data"
    }
   ],
   "source": [
    "# TODO: Train a Linear Regression model to predict `temp_max` based on\n",
    "# features assembled above\n",
    "\n",
    "# TODO: Summarize trained model by printing out coefficients\n"
   ]
  },
  {
   "cell_type": "code",
   "execution_count": 43,
   "metadata": {},
   "outputs": [
    {
     "data": {
      "application/vnd.jupyter.widget-view+json": {
       "model_id": "",
       "version_major": 2,
       "version_minor": 0
      },
      "text/plain": [
       "FloatProgress(value=0.0, bar_style='info', description='Progress:', layout=Layout(height='25px', width='50%'),…"
      ]
     },
     "metadata": {},
     "output_type": "display_data"
    }
   ],
   "source": [
    "# TODO: Evaluate model performance on test data using RMSE:\n"
   ]
  }
 ],
 "metadata": {
  "kernelspec": {
   "display_name": "PySpark",
   "language": "",
   "name": "pysparkkernel"
  },
  "language_info": {
   "codemirror_mode": {
    "name": "python",
    "version": 3
   },
   "mimetype": "text/x-python",
   "name": "pyspark",
   "pygments_lexer": "python3"
  }
 },
 "nbformat": 4,
 "nbformat_minor": 4
}
