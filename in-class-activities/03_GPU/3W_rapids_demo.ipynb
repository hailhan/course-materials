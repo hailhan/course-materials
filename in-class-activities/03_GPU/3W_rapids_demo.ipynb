{
  "cells": [
    {
      "attachments": {},
      "cell_type": "markdown",
      "metadata": {
        "id": "scfLT2i0MLyD"
      },
      "source": [
        "<a href=\"https://colab.research.google.com/drive/1-e6wcr7ehTQEsYYhf_Hj8uiNzMzLPmvb?usp=sharing\" target=\"_parent\"><img src=\"https://colab.research.google.com/assets/colab-badge.svg\" alt=\"Open In Colab\"/></a>\n",
        "\n",
        "# RAPIDS Demo\n",
        "\n",
        "Today, we're going to explore how we can do common data analytic tasks on GPUs using the RAPIDS libraries. Specifically we'll explore cudf and cuml for performing common DataFrame and Machine Learning tasks. Note that the setup portion of this notebook draws on [a setup notebook](https://colab.research.google.com/drive/13sspqiEZwso4NYTbsflpPyNFaVAAxUgr) linked in the RAPIDS documentation and is meant to be run in a Colab notebook.\n",
        "\n",
        "The cudf and cuml demos are built off of the notebooks provided in the [RAPIDS notebook repositories](https://github.com/rapidsai/notebooks) on GitHub (and you can explore them further if you are interested! There are many other relevant libraries in the RAPIDS ecosystem -- e.g. `cugraph` which allows you to perform network analyses on GPUs). Note that all of this code is intended to be run on a single GPU, but can be further parallelized in a multi-GPU cluster using either [Dask](https://docs.rapids.ai/api/cudf/stable/user_guide/10min.html#when-to-use-cudf-and-dask-cudf) or [Spark 3.0](https://www.nvidia.com/en-us/deep-learning-ai/solutions/data-science/apache-spark-3/) (which we'll talk about later in the course).\n",
        "\n",
        "## Setup\n",
        "\n",
        "Click the _Runtime_ dropdown at the top of the page, then _Change Runtime Type_ and confirm the instance type is _GPU_.\n",
        "\n",
        "Check the output of `!nvidia-smi` to make sure you've been allocated a Tesla T4, P4, or P100."
      ]
    },
    {
      "cell_type": "code",
      "execution_count": null,
      "metadata": {
        "colab": {
          "base_uri": "https://localhost:8080/"
        },
        "id": "67T0090Jk2KL",
        "outputId": "6cee5747-0fd5-4889-9a79-740a2d9d12ee"
      },
      "outputs": [
        {
          "name": "stdout",
          "output_type": "stream",
          "text": [
            "Tue Apr  4 21:51:31 2023       \n",
            "+-----------------------------------------------------------------------------+\n",
            "| NVIDIA-SMI 525.85.12    Driver Version: 525.85.12    CUDA Version: 12.0     |\n",
            "|-------------------------------+----------------------+----------------------+\n",
            "| GPU  Name        Persistence-M| Bus-Id        Disp.A | Volatile Uncorr. ECC |\n",
            "| Fan  Temp  Perf  Pwr:Usage/Cap|         Memory-Usage | GPU-Util  Compute M. |\n",
            "|                               |                      |               MIG M. |\n",
            "|===============================+======================+======================|\n",
            "|   0  Tesla T4            Off  | 00000000:00:04.0 Off |                    0 |\n",
            "| N/A   51C    P8    10W /  70W |      0MiB / 15360MiB |      0%      Default |\n",
            "|                               |                      |                  N/A |\n",
            "+-------------------------------+----------------------+----------------------+\n",
            "                                                                               \n",
            "+-----------------------------------------------------------------------------+\n",
            "| Processes:                                                                  |\n",
            "|  GPU   GI   CI        PID   Type   Process name                  GPU Memory |\n",
            "|        ID   ID                                                   Usage      |\n",
            "|=============================================================================|\n",
            "|  No running processes found                                                 |\n",
            "+-----------------------------------------------------------------------------+\n"
          ]
        }
      ],
      "source": [
        "!nvidia-smi"
      ]
    },
    {
      "cell_type": "markdown",
      "metadata": {
        "id": "CtNdk7PSafKP"
      },
      "source": [
        "Then we run the setup script below, which:\n",
        "\n",
        "1. Checks to make sure that the GPU is RAPIDS compatible\n",
        "1. Installs the **current stable version** of RAPIDSAI's core libraries using pip and **will complete in about 3-4 minutes**"
      ]
    },
    {
      "cell_type": "code",
      "execution_count": null,
      "metadata": {
        "id": "B0C8IV5TQnjN"
      },
      "outputs": [],
      "source": [
        "!git clone https://github.com/rapidsai/rapidsai-csp-utils.git\n",
        "!python rapidsai-csp-utils/colab/pip-install.py"
      ]
    },
    {
      "cell_type": "markdown",
      "metadata": {
        "id": "pZJMJ6BulmMn"
      },
      "source": [
        "At this point, our RAPIDS libraries are now installed on Colab and we can import them into our session."
      ]
    },
    {
      "cell_type": "code",
      "execution_count": null,
      "metadata": {
        "id": "4nLrk46BllED"
      },
      "outputs": [],
      "source": [
        "import warnings\n",
        "warnings.simplefilter(action='ignore', category=FutureWarning)\n",
        "\n",
        "import cudf\n",
        "import numpy as np"
      ]
    },
    {
      "cell_type": "markdown",
      "metadata": {
        "id": "chi0hJp96DH2"
      },
      "source": [
        "## GPU DataFrames: `cudf`\n",
        "\n",
        "Let's take a look at our AirBnB listing data that we were looking at last week and load this in as a `cudf` GPU DataFrame to demonstrate some of capabilities we can expect."
      ]
    },
    {
      "cell_type": "code",
      "execution_count": null,
      "metadata": {
        "colab": {
          "base_uri": "https://localhost:8080/",
          "height": 469
        },
        "id": "ZzGBteVU3rnU",
        "outputId": "2aa02bf6-9a6f-4935-d724-823fbe073a0c"
      },
      "outputs": [
        {
          "data": {
            "text/html": [
              "<div>\n",
              "<style scoped>\n",
              "    .dataframe tbody tr th:only-of-type {\n",
              "        vertical-align: middle;\n",
              "    }\n",
              "\n",
              "    .dataframe tbody tr th {\n",
              "        vertical-align: top;\n",
              "    }\n",
              "\n",
              "    .dataframe thead th {\n",
              "        text-align: right;\n",
              "    }\n",
              "</style>\n",
              "<table border=\"1\" class=\"dataframe\">\n",
              "  <thead>\n",
              "    <tr style=\"text-align: right;\">\n",
              "      <th></th>\n",
              "      <th>id</th>\n",
              "      <th>name</th>\n",
              "      <th>host_id</th>\n",
              "      <th>host_name</th>\n",
              "      <th>neighbourhood_group</th>\n",
              "      <th>neighbourhood</th>\n",
              "      <th>latitude</th>\n",
              "      <th>longitude</th>\n",
              "      <th>room_type</th>\n",
              "      <th>price</th>\n",
              "      <th>minimum_nights</th>\n",
              "      <th>number_of_reviews</th>\n",
              "      <th>last_review</th>\n",
              "      <th>reviews_per_month</th>\n",
              "      <th>calculated_host_listings_count</th>\n",
              "      <th>availability_365</th>\n",
              "    </tr>\n",
              "  </thead>\n",
              "  <tbody>\n",
              "    <tr>\n",
              "      <th>0</th>\n",
              "      <td>2384</td>\n",
              "      <td>Hyde Park - Walk to UChicago, 10 min to McCormick</td>\n",
              "      <td>2613</td>\n",
              "      <td>Rebecca</td>\n",
              "      <td>&lt;NA&gt;</td>\n",
              "      <td>Hyde Park</td>\n",
              "      <td>41.78790</td>\n",
              "      <td>-87.58780</td>\n",
              "      <td>Private room</td>\n",
              "      <td>65</td>\n",
              "      <td>2</td>\n",
              "      <td>182</td>\n",
              "      <td>2021-03-28</td>\n",
              "      <td>2.38</td>\n",
              "      <td>1</td>\n",
              "      <td>0</td>\n",
              "    </tr>\n",
              "    <tr>\n",
              "      <th>1</th>\n",
              "      <td>4505</td>\n",
              "      <td>394 Great Reviews. 127 y/o House. 40 yds to tr...</td>\n",
              "      <td>5775</td>\n",
              "      <td>Craig &amp; Kathleen</td>\n",
              "      <td>&lt;NA&gt;</td>\n",
              "      <td>South Lawndale</td>\n",
              "      <td>41.85373</td>\n",
              "      <td>-87.69540</td>\n",
              "      <td>Entire home/apt</td>\n",
              "      <td>113</td>\n",
              "      <td>2</td>\n",
              "      <td>395</td>\n",
              "      <td>2020-07-14</td>\n",
              "      <td>2.67</td>\n",
              "      <td>1</td>\n",
              "      <td>180</td>\n",
              "    </tr>\n",
              "    <tr>\n",
              "      <th>2</th>\n",
              "      <td>7126</td>\n",
              "      <td>Tiny Studio Apartment 94 Walk Score</td>\n",
              "      <td>17928</td>\n",
              "      <td>Sarah</td>\n",
              "      <td>&lt;NA&gt;</td>\n",
              "      <td>West Town</td>\n",
              "      <td>41.90166</td>\n",
              "      <td>-87.68021</td>\n",
              "      <td>Entire home/apt</td>\n",
              "      <td>65</td>\n",
              "      <td>2</td>\n",
              "      <td>394</td>\n",
              "      <td>2021-04-11</td>\n",
              "      <td>2.74</td>\n",
              "      <td>1</td>\n",
              "      <td>267</td>\n",
              "    </tr>\n",
              "    <tr>\n",
              "      <th>3</th>\n",
              "      <td>9811</td>\n",
              "      <td>Barbara's Hideaway - Old Town</td>\n",
              "      <td>33004</td>\n",
              "      <td>At Home Inn</td>\n",
              "      <td>&lt;NA&gt;</td>\n",
              "      <td>Lincoln Park</td>\n",
              "      <td>41.91943</td>\n",
              "      <td>-87.63898</td>\n",
              "      <td>Entire home/apt</td>\n",
              "      <td>120</td>\n",
              "      <td>5</td>\n",
              "      <td>54</td>\n",
              "      <td>2021-01-15</td>\n",
              "      <td>0.63</td>\n",
              "      <td>11</td>\n",
              "      <td>1</td>\n",
              "    </tr>\n",
              "    <tr>\n",
              "      <th>4</th>\n",
              "      <td>10945</td>\n",
              "      <td>The Biddle House (#1)</td>\n",
              "      <td>33004</td>\n",
              "      <td>At Home Inn</td>\n",
              "      <td>&lt;NA&gt;</td>\n",
              "      <td>Lincoln Park</td>\n",
              "      <td>41.91196</td>\n",
              "      <td>-87.63981</td>\n",
              "      <td>Entire home/apt</td>\n",
              "      <td>175</td>\n",
              "      <td>4</td>\n",
              "      <td>22</td>\n",
              "      <td>2021-03-25</td>\n",
              "      <td>0.26</td>\n",
              "      <td>11</td>\n",
              "      <td>125</td>\n",
              "    </tr>\n",
              "  </tbody>\n",
              "</table>\n",
              "</div>"
            ],
            "text/plain": [
              "      id                                               name  host_id  \\\n",
              "0   2384  Hyde Park - Walk to UChicago, 10 min to McCormick     2613   \n",
              "1   4505  394 Great Reviews. 127 y/o House. 40 yds to tr...     5775   \n",
              "2   7126                Tiny Studio Apartment 94 Walk Score    17928   \n",
              "3   9811                      Barbara's Hideaway - Old Town    33004   \n",
              "4  10945                              The Biddle House (#1)    33004   \n",
              "\n",
              "          host_name neighbourhood_group   neighbourhood  latitude  longitude  \\\n",
              "0           Rebecca                <NA>       Hyde Park  41.78790  -87.58780   \n",
              "1  Craig & Kathleen                <NA>  South Lawndale  41.85373  -87.69540   \n",
              "2             Sarah                <NA>       West Town  41.90166  -87.68021   \n",
              "3       At Home Inn                <NA>    Lincoln Park  41.91943  -87.63898   \n",
              "4       At Home Inn                <NA>    Lincoln Park  41.91196  -87.63981   \n",
              "\n",
              "         room_type  price  minimum_nights  number_of_reviews last_review  \\\n",
              "0     Private room     65               2                182  2021-03-28   \n",
              "1  Entire home/apt    113               2                395  2020-07-14   \n",
              "2  Entire home/apt     65               2                394  2021-04-11   \n",
              "3  Entire home/apt    120               5                 54  2021-01-15   \n",
              "4  Entire home/apt    175               4                 22  2021-03-25   \n",
              "\n",
              "   reviews_per_month  calculated_host_listings_count  availability_365  \n",
              "0               2.38                               1                 0  \n",
              "1               2.67                               1               180  \n",
              "2               2.74                               1               267  \n",
              "3               0.63                              11                 1  \n",
              "4               0.26                              11               125  "
            ]
          },
          "execution_count": 4,
          "metadata": {},
          "output_type": "execute_result"
        }
      ],
      "source": [
        "df = cudf.read_csv('listings_chi.csv')\n",
        "df.head()"
      ]
    },
    {
      "cell_type": "markdown",
      "metadata": {
        "id": "VpQhPunk6m4F"
      },
      "source": [
        "Once we have that data, we can perform many of the standard DataFrame operations we perform on CPUs -- just accelerated by our GPU!"
      ]
    },
    {
      "cell_type": "code",
      "execution_count": null,
      "metadata": {
        "colab": {
          "base_uri": "https://localhost:8080/"
        },
        "id": "nkiHccaP5x47",
        "outputId": "94d1a435-0025-4c2a-e8ed-93b4d761349f"
      },
      "outputs": [
        {
          "data": {
            "text/plain": [
              "neighbourhood           room_type      \n",
              "Hermosa                 Entire home/apt    110.642857\n",
              "West Lawn               Entire home/apt    143.250000\n",
              "Greater Grand Crossing  Private room        44.857143\n",
              "Ashburn                 Private room        57.500000\n",
              "Rogers Park             Shared room         54.333333\n",
              "                                              ...    \n",
              "East Side               Private room        20.000000\n",
              "Calumet Heights         Shared room         15.750000\n",
              "Forest Glen             Entire home/apt    194.500000\n",
              "New City                Private room        39.222222\n",
              "Douglas                 Private room        69.760000\n",
              "Name: price, Length: 178, dtype: float64"
            ]
          },
          "execution_count": 5,
          "metadata": {},
          "output_type": "execute_result"
        }
      ],
      "source": [
        "df.groupby(['neighbourhood', 'room_type']) \\\n",
        "  .price \\\n",
        "  .mean()"
      ]
    },
    {
      "cell_type": "markdown",
      "metadata": {
        "id": "a7KLwLyB64jv"
      },
      "source": [
        "One thing to note, though, is that not all of the functionality we might expect out of CPU clusters is available yet in the `cudf` DataFrame implementation.\n",
        "\n",
        "For instance (and of particular note!), our ability to apply custom functions is still pretty limited. `cudf` uses Numba's CUDA compiler to translate this code for the GPU and [many standard `numpy` operations are not supported](https://numba.pydata.org/numba-doc/dev/cuda/cudapysupported.html#numpy-support) (for instance, if you try to apply the distance calculation with performed in the CPU Vectorization/Multithreading demonstration notebook for last week, it will fail to compile correctly for the GPU).\n",
        "\n",
        "That being said, we can perform many base-Python operations inside of custom functions, so if you can express your custom functions in this way, it might be worth your while to do this work on a GPU. For example, let's create a custom price index that indicates whether an AirBnB is \\\"Cheap\\\" (0), \\\"Moderately Expensive\\\" (1), or \\\"Very Expensive\\\" (2) using `cudf`'s [`apply_rows` method](https://docs.rapids.ai/api/cudf/stable/user_guide/guide-to-udfs.html#numba-kernels-for-dataframes):"
      ]
    },
    {
      "cell_type": "code",
      "execution_count": null,
      "metadata": {
        "colab": {
          "base_uri": "https://localhost:8080/",
          "height": 206
        },
        "id": "QxM3nfk26tA6",
        "outputId": "85840bba-7d5a-413f-be3d-0a5a76ebb8a6"
      },
      "outputs": [
        {
          "data": {
            "text/html": [
              "<div>\n",
              "<style scoped>\n",
              "    .dataframe tbody tr th:only-of-type {\n",
              "        vertical-align: middle;\n",
              "    }\n",
              "\n",
              "    .dataframe tbody tr th {\n",
              "        vertical-align: top;\n",
              "    }\n",
              "\n",
              "    .dataframe thead th {\n",
              "        text-align: right;\n",
              "    }\n",
              "</style>\n",
              "<table border=\"1\" class=\"dataframe\">\n",
              "  <thead>\n",
              "    <tr style=\"text-align: right;\">\n",
              "      <th></th>\n",
              "      <th>price</th>\n",
              "      <th>price_index</th>\n",
              "    </tr>\n",
              "  </thead>\n",
              "  <tbody>\n",
              "    <tr>\n",
              "      <th>0</th>\n",
              "      <td>65</td>\n",
              "      <td>1</td>\n",
              "    </tr>\n",
              "    <tr>\n",
              "      <th>1</th>\n",
              "      <td>113</td>\n",
              "      <td>2</td>\n",
              "    </tr>\n",
              "    <tr>\n",
              "      <th>2</th>\n",
              "      <td>65</td>\n",
              "      <td>1</td>\n",
              "    </tr>\n",
              "    <tr>\n",
              "      <th>3</th>\n",
              "      <td>120</td>\n",
              "      <td>2</td>\n",
              "    </tr>\n",
              "    <tr>\n",
              "      <th>4</th>\n",
              "      <td>175</td>\n",
              "      <td>2</td>\n",
              "    </tr>\n",
              "  </tbody>\n",
              "</table>\n",
              "</div>"
            ],
            "text/plain": [
              "   price  price_index\n",
              "0     65            1\n",
              "1    113            2\n",
              "2     65            1\n",
              "3    120            2\n",
              "4    175            2"
            ]
          },
          "execution_count": 6,
          "metadata": {},
          "output_type": "execute_result"
        }
      ],
      "source": [
        "def expensive(x, price_index):\n",
        "    # passed through Numba's CUDA compiler and `for`\n",
        "    # loop is automatically parallelized for GPU\n",
        "    for i, price in enumerate(x):\n",
        "        if price < 50:\n",
        "            price_index[i] = 0\n",
        "        elif price < 100:\n",
        "            price_index[i] = 1\n",
        "        else:\n",
        "            price_index[i] = 2\n",
        "\n",
        "# Use cudf's `apply_rows` API for applying function to every row in DataFrame\n",
        "df = df.apply_rows(expensive,\n",
        "                   incols={'price':'x'},\n",
        "                   outcols={'price_index': int},\n",
        "                   kwargs={})\n",
        "\n",
        "# Confirm that price index created correctly\n",
        "df[['price', 'price_index']].head()"
      ]
    },
    {
      "cell_type": "markdown",
      "metadata": {
        "id": "LVSSbc6v8tp3"
      },
      "source": [
        "## Training Machine Learning Models with `cuml`\n",
        "\n",
        "In addition to preprocessing and analyzing data on GPUs, we can also train (a limited set of) Machine Learning models directly on our GPU using the cuml library in the RAPIDS ecoystem as well. This can give us a significant speedup in training time over libraries like `sklearn` on CPUs for large datasets.\n",
        "\n",
        "For instance, let's train a linear regression model to predict the price of an AirBnB based on other values in its listing information (e.g. \"reviews per month\" and \"minimum nights\"). We'll fit the model both in scikit-learn on our CPU host and cuml on our GPU device and compare how long it takes."
      ]
    },
    {
      "cell_type": "code",
      "execution_count": null,
      "metadata": {
        "id": "FgtNLtwbBOuD"
      },
      "outputs": [],
      "source": [
        "from cuml.linear_model import LinearRegression as cuLinearRegression\n",
        "from sklearn.linear_model import LinearRegression as skLinearRegression"
      ]
    },
    {
      "cell_type": "markdown",
      "metadata": {
        "id": "EMvlpwvUK1Nm"
      },
      "source": [
        "We can see that for large datasets, `cuml` is quite a bit faster:"
      ]
    },
    {
      "cell_type": "code",
      "execution_count": null,
      "metadata": {
        "colab": {
          "base_uri": "https://localhost:8080/"
        },
        "id": "JvKbOEMY9NvT",
        "outputId": "50234dcd-4478-4d4b-b8b2-2ee50c401ad3"
      },
      "outputs": [
        {
          "name": "stdout",
          "output_type": "stream",
          "text": [
            "21.8 ms ± 1.67 ms per loop (mean ± std. dev. of 7 runs, 1 loop each)\n"
          ]
        }
      ],
      "source": [
        "# subset and tile dataset to mimic larger dataset\n",
        "df_sub = df[['reviews_per_month', 'minimum_nights', 'price']].astype(np.float32).dropna()\n",
        "df_big = df_sub.tile(1000)\n",
        "X = df_big[['reviews_per_month', 'minimum_nights']]\n",
        "y = df_big[['price']]\n",
        "\n",
        "%timeit fit = cuLinearRegression().fit(X, y)"
      ]
    },
    {
      "cell_type": "code",
      "execution_count": null,
      "metadata": {
        "colab": {
          "base_uri": "https://localhost:8080/"
        },
        "id": "RMYFyWI7Ax5L",
        "outputId": "786a8927-f7fb-4c97-903f-1d71ff9b2f70"
      },
      "outputs": [
        {
          "name": "stdout",
          "output_type": "stream",
          "text": [
            "509 ms ± 15 ms per loop (mean ± std. dev. of 7 runs, 1 loop each)\n"
          ]
        }
      ],
      "source": [
        "# Copy dataset from GPU device memory to CPU host memory.\n",
        "# to compare CPU and GPU results.\n",
        "X_cpu = X.to_pandas()\n",
        "y_cpu = y.to_pandas()\n",
        "\n",
        "%timeit fit_cpu = skLinearRegression().fit(X_cpu, y_cpu)"
      ]
    },
    {
      "cell_type": "markdown",
      "metadata": {
        "id": "ywgOnAx4KN9s"
      },
      "source": [
        "If we take a look at other standard machine learning algorithms in the documentation (for instance [k means clustering](https://github.com/rapidsai/cuml/blob/branch-23.04/notebooks/kmeans_demo.ipynb)) as well, we can see significant speedups over performing the same operations on large datasets in scikit-learn on a CPU.\n",
        "\n",
        "Note, though, that this is only true of larger data. If we use our original, smaller dataset, we have basically the same performance on CPU and GPU."
      ]
    },
    {
      "cell_type": "code",
      "execution_count": null,
      "metadata": {
        "colab": {
          "base_uri": "https://localhost:8080/"
        },
        "id": "SNxUFUb0CCSb",
        "outputId": "b4a66be9-c76a-484d-9d21-4a4a53e6fa31"
      },
      "outputs": [
        {
          "name": "stdout",
          "output_type": "stream",
          "text": [
            "2.69 ms ± 60.2 µs per loop (mean ± std. dev. of 7 runs, 100 loops each)\n"
          ]
        }
      ],
      "source": [
        "# smaller data\n",
        "X = df_sub[['reviews_per_month', 'minimum_nights']]\n",
        "y = df_sub[['price']]\n",
        "\n",
        "%timeit fit = cuLinearRegression().fit(X, y)"
      ]
    },
    {
      "cell_type": "code",
      "execution_count": null,
      "metadata": {
        "colab": {
          "base_uri": "https://localhost:8080/"
        },
        "id": "IprXzr0GISzG",
        "outputId": "4bb8c334-568e-44ac-f8cd-4924ab72d84b"
      },
      "outputs": [
        {
          "name": "stdout",
          "output_type": "stream",
          "text": [
            "2.74 ms ± 125 µs per loop (mean ± std. dev. of 7 runs, 100 loops each)\n"
          ]
        }
      ],
      "source": [
        "X_cpu = X.to_pandas()\n",
        "y_cpu = y.to_pandas()\n",
        "\n",
        "%timeit fit_cpu = skLinearRegression().fit(X_cpu, y_cpu)"
      ]
    },
    {
      "cell_type": "markdown",
      "metadata": {
        "id": "Ellv69Zy_P_o"
      },
      "source": [
        "## Discussion:\n",
        "\n",
        "1. Based on what you know about CPUs and GPUs, why do you think there is a disparity between the GPU's relative performance on large vs. small data?\n",
        "2. Now that you've trained your model, you want to be able to generate predicted prices based on individual observations of 'reviews_per_month' and 'minimum_nights' (e.g. from a single listing with 1 review per month and 1 minimum night, you will make a single prediction via code like `fit.predict(np.array([[1, 1]]))`), so that you can provide recommendations via API to hosts as to how they should price their listings based on the features of their property. \n",
        "\n",
        "  Would it be better to run this prediction service on a CPU or continue running it on the GPU that you trained the model on (note that you can [pickle a model](https://docs.rapids.ai/api/cuml/stable/pickling_cuml_models/) that you have trained on a GPU and employ it on a CPU if desired)? Why? What are the tradeoffs?\n",
        "\n"
      ]
    }
  ],
  "metadata": {
    "accelerator": "GPU",
    "colab": {
      "provenance": []
    },
    "kernelspec": {
      "display_name": "Python 3",
      "name": "python3"
    }
  },
  "nbformat": 4,
  "nbformat_minor": 0
}
